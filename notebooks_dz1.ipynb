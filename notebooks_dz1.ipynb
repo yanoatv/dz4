{
  "metadata": {
    "kernelspec": {
      "name": "python",
      "display_name": "Python (Pyodide)",
      "language": "python"
    },
    "language_info": {
      "codemirror_mode": {
        "name": "python",
        "version": 3
      },
      "file_extension": ".py",
      "mimetype": "text/x-python",
      "name": "python",
      "nbconvert_exporter": "python",
      "pygments_lexer": "ipython3",
      "version": "3.8"
    }
  },
  "nbformat_minor": 5,
  "nbformat": 4,
  "cells": [
    {
      "cell_type": "markdown",
      "source": "![image.png](https://scikit-learn.org/stable/_images/sphx_glr_plot_iris_dataset_001.png)",
      "metadata": {},
      "id": "8ae453ab-11d1-45b5-bde8-dcaa51919afb"
    },
    {
      "cell_type": "code",
      "source": "",
      "metadata": {},
      "execution_count": null,
      "outputs": [],
      "id": "22523ea7-9e07-426f-84ea-d1152b3bfd11"
    }
  ]
}